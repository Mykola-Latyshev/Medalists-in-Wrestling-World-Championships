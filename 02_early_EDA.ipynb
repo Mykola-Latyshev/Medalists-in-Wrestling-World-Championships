{
 "cells": [
  {
   "cell_type": "code",
   "execution_count": 112,
   "id": "residential-worth",
   "metadata": {},
   "outputs": [],
   "source": [
    "import pandas as pd\n",
    "import numpy as np\n",
    "import matplotlib\n",
    "import matplotlib.pyplot as plt\n",
    "import seaborn as sns"
   ]
  },
  {
   "cell_type": "code",
   "execution_count": 113,
   "id": "global-number",
   "metadata": {},
   "outputs": [],
   "source": [
    "# load data\n",
    "\n",
    "#free-style wrestling\n",
    "df_2017_fs_finish = pd.read_csv('df_2017_fs_finish.csv')\n",
    "df_2018_fs_finish = pd.read_csv('df_2018_fs_finish.csv')\n",
    "\n",
    "#greko-roman wrestling\n",
    "df_2017_gr_finish = pd.read_csv('df_2017_gr_finish.csv')\n",
    "df_2018_gr_finish = pd.read_csv('df_2018_gr_finish.csv')\n",
    "\n",
    "#women wrestling\n",
    "df_2017_ww_finish = pd.read_csv('df_2017_ww_finish.csv')\n",
    "df_2018_ww_finish = pd.read_csv('df_2018_ww_finish.csv')"
   ]
  },
  {
   "cell_type": "code",
   "execution_count": 114,
   "id": "veterinary-bruce",
   "metadata": {},
   "outputs": [
    {
     "data": {
      "text/plain": [
       "(1050, 20)"
      ]
     },
     "execution_count": 114,
     "metadata": {},
     "output_type": "execute_result"
    }
   ],
   "source": [
    "# create df of men athletes\n",
    "df_m = pd.concat([df_2017_fs_finish, df_2018_fs_finish, df_2017_gr_finish, df_2018_gr_finish])\n",
    "\n",
    "# amount of rows and columns\n",
    "df_m.shape"
   ]
  },
  {
   "cell_type": "code",
   "execution_count": 115,
   "id": "european-bread",
   "metadata": {},
   "outputs": [
    {
     "data": {
      "text/plain": [
       "(413, 20)"
      ]
     },
     "execution_count": 115,
     "metadata": {},
     "output_type": "execute_result"
    }
   ],
   "source": [
    "# create df of women athletes\n",
    "df_w = pd.concat([df_2017_ww_finish, df_2018_ww_finish])\n",
    "\n",
    "# amount of rows and columns\n",
    "df_w.shape"
   ]
  },
  {
   "cell_type": "code",
   "execution_count": 116,
   "id": "surprising-enforcement",
   "metadata": {},
   "outputs": [
    {
     "data": {
      "text/html": [
       "<div>\n",
       "<style scoped>\n",
       "    .dataframe tbody tr th:only-of-type {\n",
       "        vertical-align: middle;\n",
       "    }\n",
       "\n",
       "    .dataframe tbody tr th {\n",
       "        vertical-align: top;\n",
       "    }\n",
       "\n",
       "    .dataframe thead th {\n",
       "        text-align: right;\n",
       "    }\n",
       "</style>\n",
       "<table border=\"1\" class=\"dataframe\">\n",
       "  <thead>\n",
       "    <tr style=\"text-align: right;\">\n",
       "      <th></th>\n",
       "      <th>Unnamed: 0</th>\n",
       "      <th>Age_final</th>\n",
       "      <th>Month_BirthDay</th>\n",
       "      <th>Quarter_REA</th>\n",
       "      <th>Half_REA</th>\n",
       "      <th>Cadet_Win</th>\n",
       "      <th>Cadet_Success</th>\n",
       "      <th>Cadet_Part</th>\n",
       "      <th>Junior_Win</th>\n",
       "      <th>Junior_Success</th>\n",
       "      <th>Junior_Part</th>\n",
       "      <th>Senior_Win_CC</th>\n",
       "      <th>Senior_Success_CC</th>\n",
       "      <th>Senior_Part_CC</th>\n",
       "      <th>Senior_Win_WC</th>\n",
       "      <th>Senior_Success_WC</th>\n",
       "      <th>Senior_Part_WC</th>\n",
       "      <th>target_rank</th>\n",
       "      <th>target_group</th>\n",
       "    </tr>\n",
       "  </thead>\n",
       "  <tbody>\n",
       "    <tr>\n",
       "      <th>count</th>\n",
       "      <td>1050.000000</td>\n",
       "      <td>1050.000000</td>\n",
       "      <td>1050.000000</td>\n",
       "      <td>1050.000000</td>\n",
       "      <td>1050.000000</td>\n",
       "      <td>1050.000000</td>\n",
       "      <td>1050.000000</td>\n",
       "      <td>1050.000000</td>\n",
       "      <td>1050.000000</td>\n",
       "      <td>1050.000000</td>\n",
       "      <td>1050.000000</td>\n",
       "      <td>1050.000000</td>\n",
       "      <td>1050.00000</td>\n",
       "      <td>1050.000000</td>\n",
       "      <td>1050.000000</td>\n",
       "      <td>1050.000000</td>\n",
       "      <td>1050.000000</td>\n",
       "      <td>1050.000000</td>\n",
       "      <td>1050.000000</td>\n",
       "    </tr>\n",
       "    <tr>\n",
       "      <th>mean</th>\n",
       "      <td>131.708571</td>\n",
       "      <td>26.309524</td>\n",
       "      <td>6.431429</td>\n",
       "      <td>2.473333</td>\n",
       "      <td>0.502857</td>\n",
       "      <td>0.160952</td>\n",
       "      <td>0.425714</td>\n",
       "      <td>0.879048</td>\n",
       "      <td>0.282857</td>\n",
       "      <td>0.814286</td>\n",
       "      <td>2.050476</td>\n",
       "      <td>0.307619</td>\n",
       "      <td>0.94381</td>\n",
       "      <td>2.255238</td>\n",
       "      <td>0.081905</td>\n",
       "      <td>0.279048</td>\n",
       "      <td>1.561905</td>\n",
       "      <td>15.337143</td>\n",
       "      <td>2.529524</td>\n",
       "    </tr>\n",
       "    <tr>\n",
       "      <th>std</th>\n",
       "      <td>77.474402</td>\n",
       "      <td>4.432569</td>\n",
       "      <td>3.454672</td>\n",
       "      <td>1.119952</td>\n",
       "      <td>0.500230</td>\n",
       "      <td>0.520137</td>\n",
       "      <td>0.835751</td>\n",
       "      <td>1.195654</td>\n",
       "      <td>0.707438</td>\n",
       "      <td>1.259014</td>\n",
       "      <td>1.945963</td>\n",
       "      <td>0.974234</td>\n",
       "      <td>1.60602</td>\n",
       "      <td>2.514703</td>\n",
       "      <td>0.369159</td>\n",
       "      <td>0.735352</td>\n",
       "      <td>1.889834</td>\n",
       "      <td>9.391427</td>\n",
       "      <td>0.802513</td>\n",
       "    </tr>\n",
       "    <tr>\n",
       "      <th>min</th>\n",
       "      <td>0.000000</td>\n",
       "      <td>0.000000</td>\n",
       "      <td>1.000000</td>\n",
       "      <td>1.000000</td>\n",
       "      <td>0.000000</td>\n",
       "      <td>0.000000</td>\n",
       "      <td>0.000000</td>\n",
       "      <td>0.000000</td>\n",
       "      <td>0.000000</td>\n",
       "      <td>0.000000</td>\n",
       "      <td>0.000000</td>\n",
       "      <td>0.000000</td>\n",
       "      <td>0.00000</td>\n",
       "      <td>0.000000</td>\n",
       "      <td>0.000000</td>\n",
       "      <td>0.000000</td>\n",
       "      <td>0.000000</td>\n",
       "      <td>0.000000</td>\n",
       "      <td>0.000000</td>\n",
       "    </tr>\n",
       "    <tr>\n",
       "      <th>25%</th>\n",
       "      <td>65.000000</td>\n",
       "      <td>23.000000</td>\n",
       "      <td>3.000000</td>\n",
       "      <td>1.000000</td>\n",
       "      <td>0.000000</td>\n",
       "      <td>0.000000</td>\n",
       "      <td>0.000000</td>\n",
       "      <td>0.000000</td>\n",
       "      <td>0.000000</td>\n",
       "      <td>0.000000</td>\n",
       "      <td>0.000000</td>\n",
       "      <td>0.000000</td>\n",
       "      <td>0.00000</td>\n",
       "      <td>0.000000</td>\n",
       "      <td>0.000000</td>\n",
       "      <td>0.000000</td>\n",
       "      <td>0.000000</td>\n",
       "      <td>8.000000</td>\n",
       "      <td>2.000000</td>\n",
       "    </tr>\n",
       "    <tr>\n",
       "      <th>50%</th>\n",
       "      <td>131.000000</td>\n",
       "      <td>26.000000</td>\n",
       "      <td>7.000000</td>\n",
       "      <td>3.000000</td>\n",
       "      <td>1.000000</td>\n",
       "      <td>0.000000</td>\n",
       "      <td>0.000000</td>\n",
       "      <td>0.000000</td>\n",
       "      <td>0.000000</td>\n",
       "      <td>0.000000</td>\n",
       "      <td>2.000000</td>\n",
       "      <td>0.000000</td>\n",
       "      <td>0.00000</td>\n",
       "      <td>1.000000</td>\n",
       "      <td>0.000000</td>\n",
       "      <td>0.000000</td>\n",
       "      <td>1.000000</td>\n",
       "      <td>15.000000</td>\n",
       "      <td>3.000000</td>\n",
       "    </tr>\n",
       "    <tr>\n",
       "      <th>75%</th>\n",
       "      <td>196.000000</td>\n",
       "      <td>29.000000</td>\n",
       "      <td>9.000000</td>\n",
       "      <td>3.000000</td>\n",
       "      <td>1.000000</td>\n",
       "      <td>0.000000</td>\n",
       "      <td>1.000000</td>\n",
       "      <td>1.000000</td>\n",
       "      <td>0.000000</td>\n",
       "      <td>1.000000</td>\n",
       "      <td>4.000000</td>\n",
       "      <td>0.000000</td>\n",
       "      <td>1.00000</td>\n",
       "      <td>4.000000</td>\n",
       "      <td>0.000000</td>\n",
       "      <td>0.000000</td>\n",
       "      <td>3.000000</td>\n",
       "      <td>22.000000</td>\n",
       "      <td>3.000000</td>\n",
       "    </tr>\n",
       "    <tr>\n",
       "      <th>max</th>\n",
       "      <td>295.000000</td>\n",
       "      <td>88.000000</td>\n",
       "      <td>12.000000</td>\n",
       "      <td>4.000000</td>\n",
       "      <td>1.000000</td>\n",
       "      <td>5.000000</td>\n",
       "      <td>6.000000</td>\n",
       "      <td>7.000000</td>\n",
       "      <td>6.000000</td>\n",
       "      <td>8.000000</td>\n",
       "      <td>9.000000</td>\n",
       "      <td>11.000000</td>\n",
       "      <td>15.00000</td>\n",
       "      <td>15.000000</td>\n",
       "      <td>4.000000</td>\n",
       "      <td>7.000000</td>\n",
       "      <td>12.000000</td>\n",
       "      <td>92.000000</td>\n",
       "      <td>12.000000</td>\n",
       "    </tr>\n",
       "  </tbody>\n",
       "</table>\n",
       "</div>"
      ],
      "text/plain": [
       "        Unnamed: 0    Age_final  Month_BirthDay  Quarter_REA     Half_REA  \\\n",
       "count  1050.000000  1050.000000     1050.000000  1050.000000  1050.000000   \n",
       "mean    131.708571    26.309524        6.431429     2.473333     0.502857   \n",
       "std      77.474402     4.432569        3.454672     1.119952     0.500230   \n",
       "min       0.000000     0.000000        1.000000     1.000000     0.000000   \n",
       "25%      65.000000    23.000000        3.000000     1.000000     0.000000   \n",
       "50%     131.000000    26.000000        7.000000     3.000000     1.000000   \n",
       "75%     196.000000    29.000000        9.000000     3.000000     1.000000   \n",
       "max     295.000000    88.000000       12.000000     4.000000     1.000000   \n",
       "\n",
       "         Cadet_Win  Cadet_Success   Cadet_Part   Junior_Win  Junior_Success  \\\n",
       "count  1050.000000    1050.000000  1050.000000  1050.000000     1050.000000   \n",
       "mean      0.160952       0.425714     0.879048     0.282857        0.814286   \n",
       "std       0.520137       0.835751     1.195654     0.707438        1.259014   \n",
       "min       0.000000       0.000000     0.000000     0.000000        0.000000   \n",
       "25%       0.000000       0.000000     0.000000     0.000000        0.000000   \n",
       "50%       0.000000       0.000000     0.000000     0.000000        0.000000   \n",
       "75%       0.000000       1.000000     1.000000     0.000000        1.000000   \n",
       "max       5.000000       6.000000     7.000000     6.000000        8.000000   \n",
       "\n",
       "       Junior_Part  Senior_Win_CC  Senior_Success_CC  Senior_Part_CC  \\\n",
       "count  1050.000000    1050.000000         1050.00000     1050.000000   \n",
       "mean      2.050476       0.307619            0.94381        2.255238   \n",
       "std       1.945963       0.974234            1.60602        2.514703   \n",
       "min       0.000000       0.000000            0.00000        0.000000   \n",
       "25%       0.000000       0.000000            0.00000        0.000000   \n",
       "50%       2.000000       0.000000            0.00000        1.000000   \n",
       "75%       4.000000       0.000000            1.00000        4.000000   \n",
       "max       9.000000      11.000000           15.00000       15.000000   \n",
       "\n",
       "       Senior_Win_WC  Senior_Success_WC  Senior_Part_WC  target_rank  \\\n",
       "count    1050.000000        1050.000000     1050.000000  1050.000000   \n",
       "mean        0.081905           0.279048        1.561905    15.337143   \n",
       "std         0.369159           0.735352        1.889834     9.391427   \n",
       "min         0.000000           0.000000        0.000000     0.000000   \n",
       "25%         0.000000           0.000000        0.000000     8.000000   \n",
       "50%         0.000000           0.000000        1.000000    15.000000   \n",
       "75%         0.000000           0.000000        3.000000    22.000000   \n",
       "max         4.000000           7.000000       12.000000    92.000000   \n",
       "\n",
       "       target_group  \n",
       "count   1050.000000  \n",
       "mean       2.529524  \n",
       "std        0.802513  \n",
       "min        0.000000  \n",
       "25%        2.000000  \n",
       "50%        3.000000  \n",
       "75%        3.000000  \n",
       "max       12.000000  "
      ]
     },
     "execution_count": 116,
     "metadata": {},
     "output_type": "execute_result"
    }
   ],
   "source": [
    "# info about df\n",
    "df_m.describe()"
   ]
  },
  {
   "cell_type": "code",
   "execution_count": 117,
   "id": "quiet-dress",
   "metadata": {},
   "outputs": [
    {
     "data": {
      "text/plain": [
       "Unnamed: 0           0\n",
       "Name                 0\n",
       "Age_final            0\n",
       "Month_BirthDay       0\n",
       "Quarter_REA          0\n",
       "Half_REA             0\n",
       "Cadet_Win            0\n",
       "Cadet_Success        0\n",
       "Cadet_Part           0\n",
       "Junior_Win           0\n",
       "Junior_Success       0\n",
       "Junior_Part          0\n",
       "Senior_Win_CC        0\n",
       "Senior_Success_CC    0\n",
       "Senior_Part_CC       0\n",
       "Senior_Win_WC        0\n",
       "Senior_Success_WC    0\n",
       "Senior_Part_WC       0\n",
       "target_rank          0\n",
       "target_group         0\n",
       "dtype: int64"
      ]
     },
     "execution_count": 117,
     "metadata": {},
     "output_type": "execute_result"
    }
   ],
   "source": [
    "df_w.isnull().sum()"
   ]
  },
  {
   "cell_type": "code",
   "execution_count": 118,
   "id": "closing-cooler",
   "metadata": {},
   "outputs": [],
   "source": [
    "# EDA of target "
   ]
  },
  {
   "cell_type": "code",
   "execution_count": 119,
   "id": "parallel-fountain",
   "metadata": {},
   "outputs": [],
   "source": [
    "# count target group\n",
    "df_fig_target1 = df_m.groupby(['target_group'])['Name'].count().reset_index(name='counts')"
   ]
  },
  {
   "cell_type": "code",
   "execution_count": 120,
   "id": "configured-italic",
   "metadata": {},
   "outputs": [
    {
     "data": {
      "text/plain": [
       "<BarContainer object of 6 artists>"
      ]
     },
     "execution_count": 120,
     "metadata": {},
     "output_type": "execute_result"
    },
    {
     "data": {
      "image/png": "[encoded data removed]",
      "text/plain": [
       "<Figure size 504x360 with 1 Axes>"
      ]
     },
     "metadata": {
      "needs_background": "light"
     },
     "output_type": "display_data"
    }
   ],
   "source": [
    "plt.figure(figsize = (7,5))\n",
    "plt.bar(df_fig_target1['target_group'], df_fig_target1['counts'])"
   ]
  },
  {
   "cell_type": "code",
   "execution_count": 121,
   "id": "sized-amendment",
   "metadata": {},
   "outputs": [],
   "source": [
    "# drop rows with target_group < 1 or > 3  \n",
    "#\n",
    "ind_missing_w = df_w[(df_w['target_group'] < 1) | (df_w['target_group'] > 3)].index\n",
    "df_w_new = df_w.drop(ind_missing_w, axis=0)\n",
    "\n",
    "ind_missing_m = df_m[(df_m['target_group'] < 1) | (df_m['target_group'] > 3)].index\n",
    "df_m_new = df_m.drop(ind_missing_m, axis=0)"
   ]
  },
  {
   "cell_type": "code",
   "execution_count": 122,
   "id": "insured-europe",
   "metadata": {},
   "outputs": [],
   "source": [
    "# count target group\n",
    "df_fig_target1 = df_m_new.groupby(['target_group'])['Name'].count().reset_index(name='counts')"
   ]
  },
  {
   "cell_type": "code",
   "execution_count": 123,
   "id": "protective-choice",
   "metadata": {},
   "outputs": [
    {
     "data": {
      "text/plain": [
       "<BarContainer object of 3 artists>"
      ]
     },
     "execution_count": 123,
     "metadata": {},
     "output_type": "execute_result"
    },
    {
     "data": {
      "image/png": "[encoded data removed]",
      "text/plain": [
       "<Figure size 504x360 with 1 Axes>"
      ]
     },
     "metadata": {
      "needs_background": "light"
     },
     "output_type": "display_data"
    }
   ],
   "source": [
    "plt.figure(figsize = (7,5))\n",
    "plt.bar(df_fig_target1['target_group'], df_fig_target1['counts'])"
   ]
  },
  {
   "cell_type": "code",
   "execution_count": 108,
   "id": "dimensional-trailer",
   "metadata": {},
   "outputs": [],
   "source": [
    "# count target group\n",
    "df_fig_target2 = df_m_new.groupby(['target_rank'])['Name'].count().reset_index(name='counts')"
   ]
  },
  {
   "cell_type": "code",
   "execution_count": 109,
   "id": "collaborative-chick",
   "metadata": {},
   "outputs": [
    {
     "data": {
      "text/plain": [
       "<BarContainer object of 36 artists>"
      ]
     },
     "execution_count": 109,
     "metadata": {},
     "output_type": "execute_result"
    },
    {
     "data": {
      "image/png": "[encoded data removed]",
      "text/plain": [
       "<Figure size 720x504 with 1 Axes>"
      ]
     },
     "metadata": {
      "needs_background": "light"
     },
     "output_type": "display_data"
    }
   ],
   "source": [
    "plt.figure(figsize = (10,7))\n",
    "plt.bar(df_fig_target2['target_rank'], df_fig_target2['counts'])"
   ]
  },
  {
   "cell_type": "code",
   "execution_count": 110,
   "id": "cardiac-belgium",
   "metadata": {},
   "outputs": [],
   "source": [
    "# EDA features"
   ]
  },
  {
   "cell_type": "code",
   "execution_count": 111,
   "id": "limited-storage",
   "metadata": {},
   "outputs": [
    {
     "data": {
      "image/png": "[encoded data removed]",
      "text/plain": [
       "<Figure size 720x504 with 1 Axes>"
      ]
     },
     "metadata": {
      "needs_background": "light"
     },
     "output_type": "display_data"
    }
   ],
   "source": [
    "# age of athletes women\n",
    "df_fig_age = df_w_new.groupby(['Age_final'])['Name'].count().reset_index(name='counts')\n",
    "plt.figure(figsize = (10,7))\n",
    "plt.bar(df_fig_age['Age_final'], df_fig_age['counts'])\n",
    "plt.savefig('dist_age_w.png')"
   ]
  },
  {
   "cell_type": "code",
   "execution_count": 71,
   "id": "cooperative-angle",
   "metadata": {},
   "outputs": [
    {
     "data": {
      "image/png": "[encoded data removed]",
      "text/plain": [
       "<Figure size 720x504 with 1 Axes>"
      ]
     },
     "metadata": {
      "needs_background": "light"
     },
     "output_type": "display_data"
    }
   ],
   "source": [
    "# age of athletes men\n",
    "df_fig_age = df_m_new.groupby(['Age_final'])['Name'].count().reset_index(name='counts')\n",
    "plt.figure(figsize = (10,7))\n",
    "plt.bar(df_fig_age['Age_final'], df_fig_age['counts'])\n",
    "plt.savefig('dist_age_m.png')"
   ]
  },
  {
   "cell_type": "code",
   "execution_count": 72,
   "id": "better-fight",
   "metadata": {},
   "outputs": [],
   "source": [
    "# drop rows with Age_final < 17 or > 40 \n",
    "\n",
    "ind_missing_w_n = df_w_new[(df_w_new['Age_final'] < 17) | (df_w_new['Age_final'] > 40)].index\n",
    "df_w_new2 = df_w_new.drop(ind_missing_w_n, axis=0)\n",
    "\n",
    "ind_missing_m_n = df_m_new[(df_m_new['Age_final'] < 17) | (df_m_new['Age_final'] > 40)].index\n",
    "df_m_new2 = df_m_new.drop(ind_missing_m_n, axis=0)"
   ]
  },
  {
   "cell_type": "code",
   "execution_count": 73,
   "id": "robust-hacker",
   "metadata": {},
   "outputs": [],
   "source": [
    "df_w_new2 = df_w_new2.reset_index()\n",
    "df_m_new2 = df_m_new2.reset_index()"
   ]
  },
  {
   "cell_type": "code",
   "execution_count": 79,
   "id": "outstanding-bottle",
   "metadata": {},
   "outputs": [],
   "source": [
    "df_w_new2 = df_w_new2.drop(columns = ['Unnamed: 0', 'index'])\n",
    "df_m_new2 = df_m_new2.drop(columns = ['Unnamed: 0', 'index'])"
   ]
  },
  {
   "cell_type": "code",
   "execution_count": 82,
   "id": "unlikely-antarctica",
   "metadata": {},
   "outputs": [],
   "source": [
    "# add columns with target medalist (1) and no medalist (0)\n",
    "df_w_new2['target_medalist'] = (df_w_new2['target_group'] <= 1).astype('int')\n",
    "df_m_new2['target_medalist'] = (df_m_new2['target_group'] <= 1).astype('int')"
   ]
  },
  {
   "cell_type": "code",
   "execution_count": 83,
   "id": "boxed-method",
   "metadata": {},
   "outputs": [
    {
     "data": {
      "text/html": [
       "<div>\n",
       "<style scoped>\n",
       "    .dataframe tbody tr th:only-of-type {\n",
       "        vertical-align: middle;\n",
       "    }\n",
       "\n",
       "    .dataframe tbody tr th {\n",
       "        vertical-align: top;\n",
       "    }\n",
       "\n",
       "    .dataframe thead th {\n",
       "        text-align: right;\n",
       "    }\n",
       "</style>\n",
       "<table border=\"1\" class=\"dataframe\">\n",
       "  <thead>\n",
       "    <tr style=\"text-align: right;\">\n",
       "      <th></th>\n",
       "      <th>Name</th>\n",
       "      <th>Age_final</th>\n",
       "      <th>Month_BirthDay</th>\n",
       "      <th>Quarter_REA</th>\n",
       "      <th>Half_REA</th>\n",
       "      <th>Cadet_Win</th>\n",
       "      <th>Cadet_Success</th>\n",
       "      <th>Cadet_Part</th>\n",
       "      <th>Junior_Win</th>\n",
       "      <th>Junior_Success</th>\n",
       "      <th>Junior_Part</th>\n",
       "      <th>Senior_Win_CC</th>\n",
       "      <th>Senior_Success_CC</th>\n",
       "      <th>Senior_Part_CC</th>\n",
       "      <th>Senior_Win_WC</th>\n",
       "      <th>Senior_Success_WC</th>\n",
       "      <th>Senior_Part_WC</th>\n",
       "      <th>target_rank</th>\n",
       "      <th>target_group</th>\n",
       "      <th>target_medalist</th>\n",
       "    </tr>\n",
       "  </thead>\n",
       "  <tbody>\n",
       "    <tr>\n",
       "      <th>1013</th>\n",
       "      <td>Zhadrayev, Demeu</td>\n",
       "      <td>29</td>\n",
       "      <td>11</td>\n",
       "      <td>4</td>\n",
       "      <td>1</td>\n",
       "      <td>0</td>\n",
       "      <td>0</td>\n",
       "      <td>0</td>\n",
       "      <td>0</td>\n",
       "      <td>0</td>\n",
       "      <td>0</td>\n",
       "      <td>0</td>\n",
       "      <td>1</td>\n",
       "      <td>1</td>\n",
       "      <td>0</td>\n",
       "      <td>1</td>\n",
       "      <td>3</td>\n",
       "      <td>13.0</td>\n",
       "      <td>3</td>\n",
       "      <td>0</td>\n",
       "    </tr>\n",
       "    <tr>\n",
       "      <th>1014</th>\n",
       "      <td>Zhang, Hujun</td>\n",
       "      <td>20</td>\n",
       "      <td>4</td>\n",
       "      <td>2</td>\n",
       "      <td>0</td>\n",
       "      <td>0</td>\n",
       "      <td>0</td>\n",
       "      <td>0</td>\n",
       "      <td>0</td>\n",
       "      <td>0</td>\n",
       "      <td>0</td>\n",
       "      <td>0</td>\n",
       "      <td>0</td>\n",
       "      <td>1</td>\n",
       "      <td>0</td>\n",
       "      <td>0</td>\n",
       "      <td>0</td>\n",
       "      <td>8.0</td>\n",
       "      <td>2</td>\n",
       "      <td>0</td>\n",
       "    </tr>\n",
       "    <tr>\n",
       "      <th>1015</th>\n",
       "      <td>Zhang, Ridong</td>\n",
       "      <td>24</td>\n",
       "      <td>2</td>\n",
       "      <td>1</td>\n",
       "      <td>0</td>\n",
       "      <td>0</td>\n",
       "      <td>0</td>\n",
       "      <td>0</td>\n",
       "      <td>0</td>\n",
       "      <td>1</td>\n",
       "      <td>2</td>\n",
       "      <td>0</td>\n",
       "      <td>2</td>\n",
       "      <td>2</td>\n",
       "      <td>0</td>\n",
       "      <td>0</td>\n",
       "      <td>3</td>\n",
       "      <td>33.0</td>\n",
       "      <td>3</td>\n",
       "      <td>0</td>\n",
       "    </tr>\n",
       "    <tr>\n",
       "      <th>1016</th>\n",
       "      <td>Zhernovetski, Roman</td>\n",
       "      <td>36</td>\n",
       "      <td>12</td>\n",
       "      <td>4</td>\n",
       "      <td>1</td>\n",
       "      <td>0</td>\n",
       "      <td>0</td>\n",
       "      <td>0</td>\n",
       "      <td>0</td>\n",
       "      <td>0</td>\n",
       "      <td>0</td>\n",
       "      <td>0</td>\n",
       "      <td>0</td>\n",
       "      <td>0</td>\n",
       "      <td>0</td>\n",
       "      <td>0</td>\n",
       "      <td>0</td>\n",
       "      <td>31.0</td>\n",
       "      <td>3</td>\n",
       "      <td>0</td>\n",
       "    </tr>\n",
       "    <tr>\n",
       "      <th>1017</th>\n",
       "      <td>de Brito Ramos Junior, Joilson</td>\n",
       "      <td>20</td>\n",
       "      <td>4</td>\n",
       "      <td>2</td>\n",
       "      <td>0</td>\n",
       "      <td>0</td>\n",
       "      <td>0</td>\n",
       "      <td>0</td>\n",
       "      <td>2</td>\n",
       "      <td>3</td>\n",
       "      <td>5</td>\n",
       "      <td>0</td>\n",
       "      <td>1</td>\n",
       "      <td>1</td>\n",
       "      <td>0</td>\n",
       "      <td>0</td>\n",
       "      <td>1</td>\n",
       "      <td>7.0</td>\n",
       "      <td>2</td>\n",
       "      <td>0</td>\n",
       "    </tr>\n",
       "  </tbody>\n",
       "</table>\n",
       "</div>"
      ],
      "text/plain": [
       "                                Name  Age_final  Month_BirthDay  Quarter_REA  \\\n",
       "1013                Zhadrayev, Demeu         29              11            4   \n",
       "1014                    Zhang, Hujun         20               4            2   \n",
       "1015                   Zhang, Ridong         24               2            1   \n",
       "1016             Zhernovetski, Roman         36              12            4   \n",
       "1017  de Brito Ramos Junior, Joilson         20               4            2   \n",
       "\n",
       "      Half_REA  Cadet_Win  Cadet_Success  Cadet_Part  Junior_Win  \\\n",
       "1013         1          0              0           0           0   \n",
       "1014         0          0              0           0           0   \n",
       "1015         0          0              0           0           0   \n",
       "1016         1          0              0           0           0   \n",
       "1017         0          0              0           0           2   \n",
       "\n",
       "      Junior_Success  Junior_Part  Senior_Win_CC  Senior_Success_CC  \\\n",
       "1013               0            0              0                  1   \n",
       "1014               0            0              0                  0   \n",
       "1015               1            2              0                  2   \n",
       "1016               0            0              0                  0   \n",
       "1017               3            5              0                  1   \n",
       "\n",
       "      Senior_Part_CC  Senior_Win_WC  Senior_Success_WC  Senior_Part_WC  \\\n",
       "1013               1              0                  1               3   \n",
       "1014               1              0                  0               0   \n",
       "1015               2              0                  0               3   \n",
       "1016               0              0                  0               0   \n",
       "1017               1              0                  0               1   \n",
       "\n",
       "      target_rank  target_group  target_medalist  \n",
       "1013         13.0             3                0  \n",
       "1014          8.0             2                0  \n",
       "1015         33.0             3                0  \n",
       "1016         31.0             3                0  \n",
       "1017          7.0             2                0  "
      ]
     },
     "execution_count": 83,
     "metadata": {},
     "output_type": "execute_result"
    }
   ],
   "source": [
    "df_m_new2.tail()"
   ]
  },
  {
   "cell_type": "code",
   "execution_count": 92,
   "id": "premier-valley",
   "metadata": {},
   "outputs": [],
   "source": [
    "# save finish df to files\n",
    "df_w_new2.to_csv('df_women_final.csv', index=False)\n",
    "df_m_new2.to_csv('df_men_final.csv', index=False)"
   ]
  },
  {
   "cell_type": "code",
   "execution_count": 93,
   "id": "atlantic-fantasy",
   "metadata": {},
   "outputs": [],
   "source": [
    "df_women_final = pd.read_csv('df_women_final.csv')"
   ]
  },
  {
   "cell_type": "code",
   "execution_count": 95,
   "id": "younger-profession",
   "metadata": {},
   "outputs": [
    {
     "data": {
      "text/html": [
       "<div>\n",
       "<style scoped>\n",
       "    .dataframe tbody tr th:only-of-type {\n",
       "        vertical-align: middle;\n",
       "    }\n",
       "\n",
       "    .dataframe tbody tr th {\n",
       "        vertical-align: top;\n",
       "    }\n",
       "\n",
       "    .dataframe thead th {\n",
       "        text-align: right;\n",
       "    }\n",
       "</style>\n",
       "<table border=\"1\" class=\"dataframe\">\n",
       "  <thead>\n",
       "    <tr style=\"text-align: right;\">\n",
       "      <th></th>\n",
       "      <th>Name</th>\n",
       "      <th>Age_final</th>\n",
       "      <th>Month_BirthDay</th>\n",
       "      <th>Quarter_REA</th>\n",
       "      <th>Half_REA</th>\n",
       "      <th>Cadet_Win</th>\n",
       "      <th>Cadet_Success</th>\n",
       "      <th>Cadet_Part</th>\n",
       "      <th>Junior_Win</th>\n",
       "      <th>Junior_Success</th>\n",
       "      <th>Junior_Part</th>\n",
       "      <th>Senior_Win_CC</th>\n",
       "      <th>Senior_Success_CC</th>\n",
       "      <th>Senior_Part_CC</th>\n",
       "      <th>Senior_Win_WC</th>\n",
       "      <th>Senior_Success_WC</th>\n",
       "      <th>Senior_Part_WC</th>\n",
       "      <th>target_rank</th>\n",
       "      <th>target_group</th>\n",
       "      <th>target_medalist</th>\n",
       "    </tr>\n",
       "  </thead>\n",
       "  <tbody>\n",
       "    <tr>\n",
       "      <th>0</th>\n",
       "      <td>Adar, Yasemin</td>\n",
       "      <td>26</td>\n",
       "      <td>12</td>\n",
       "      <td>4</td>\n",
       "      <td>1</td>\n",
       "      <td>0</td>\n",
       "      <td>0</td>\n",
       "      <td>0</td>\n",
       "      <td>0</td>\n",
       "      <td>0</td>\n",
       "      <td>2</td>\n",
       "      <td>1</td>\n",
       "      <td>1</td>\n",
       "      <td>5</td>\n",
       "      <td>0</td>\n",
       "      <td>0</td>\n",
       "      <td>4</td>\n",
       "      <td>1.0</td>\n",
       "      <td>1</td>\n",
       "      <td>1</td>\n",
       "    </tr>\n",
       "    <tr>\n",
       "      <th>1</th>\n",
       "      <td>Adekuoroye, Odunayo Folasade</td>\n",
       "      <td>24</td>\n",
       "      <td>10</td>\n",
       "      <td>4</td>\n",
       "      <td>1</td>\n",
       "      <td>0</td>\n",
       "      <td>0</td>\n",
       "      <td>0</td>\n",
       "      <td>0</td>\n",
       "      <td>0</td>\n",
       "      <td>0</td>\n",
       "      <td>1</td>\n",
       "      <td>2</td>\n",
       "      <td>2</td>\n",
       "      <td>0</td>\n",
       "      <td>1</td>\n",
       "      <td>1</td>\n",
       "      <td>2.0</td>\n",
       "      <td>1</td>\n",
       "      <td>1</td>\n",
       "    </tr>\n",
       "    <tr>\n",
       "      <th>2</th>\n",
       "      <td>Adeniyi Aminat, Oluwafunmilayo</td>\n",
       "      <td>24</td>\n",
       "      <td>4</td>\n",
       "      <td>2</td>\n",
       "      <td>0</td>\n",
       "      <td>0</td>\n",
       "      <td>0</td>\n",
       "      <td>0</td>\n",
       "      <td>1</td>\n",
       "      <td>1</td>\n",
       "      <td>1</td>\n",
       "      <td>1</td>\n",
       "      <td>2</td>\n",
       "      <td>2</td>\n",
       "      <td>0</td>\n",
       "      <td>0</td>\n",
       "      <td>0</td>\n",
       "      <td>9.0</td>\n",
       "      <td>2</td>\n",
       "      <td>0</td>\n",
       "    </tr>\n",
       "    <tr>\n",
       "      <th>3</th>\n",
       "      <td>Altantsetseg, Battsetseg</td>\n",
       "      <td>23</td>\n",
       "      <td>8</td>\n",
       "      <td>3</td>\n",
       "      <td>1</td>\n",
       "      <td>1</td>\n",
       "      <td>2</td>\n",
       "      <td>2</td>\n",
       "      <td>2</td>\n",
       "      <td>3</td>\n",
       "      <td>4</td>\n",
       "      <td>0</td>\n",
       "      <td>0</td>\n",
       "      <td>0</td>\n",
       "      <td>0</td>\n",
       "      <td>0</td>\n",
       "      <td>1</td>\n",
       "      <td>12.0</td>\n",
       "      <td>3</td>\n",
       "      <td>0</td>\n",
       "    </tr>\n",
       "    <tr>\n",
       "      <th>4</th>\n",
       "      <td>Amri, Marwa</td>\n",
       "      <td>28</td>\n",
       "      <td>1</td>\n",
       "      <td>1</td>\n",
       "      <td>0</td>\n",
       "      <td>0</td>\n",
       "      <td>0</td>\n",
       "      <td>0</td>\n",
       "      <td>0</td>\n",
       "      <td>1</td>\n",
       "      <td>1</td>\n",
       "      <td>8</td>\n",
       "      <td>9</td>\n",
       "      <td>9</td>\n",
       "      <td>0</td>\n",
       "      <td>0</td>\n",
       "      <td>7</td>\n",
       "      <td>2.0</td>\n",
       "      <td>1</td>\n",
       "      <td>1</td>\n",
       "    </tr>\n",
       "  </tbody>\n",
       "</table>\n",
       "</div>"
      ],
      "text/plain": [
       "                             Name  Age_final  Month_BirthDay  Quarter_REA  \\\n",
       "0                   Adar, Yasemin         26              12            4   \n",
       "1    Adekuoroye, Odunayo Folasade         24              10            4   \n",
       "2  Adeniyi Aminat, Oluwafunmilayo         24               4            2   \n",
       "3        Altantsetseg, Battsetseg         23               8            3   \n",
       "4                     Amri, Marwa         28               1            1   \n",
       "\n",
       "   Half_REA  Cadet_Win  Cadet_Success  Cadet_Part  Junior_Win  Junior_Success  \\\n",
       "0         1          0              0           0           0               0   \n",
       "1         1          0              0           0           0               0   \n",
       "2         0          0              0           0           1               1   \n",
       "3         1          1              2           2           2               3   \n",
       "4         0          0              0           0           0               1   \n",
       "\n",
       "   Junior_Part  Senior_Win_CC  Senior_Success_CC  Senior_Part_CC  \\\n",
       "0            2              1                  1               5   \n",
       "1            0              1                  2               2   \n",
       "2            1              1                  2               2   \n",
       "3            4              0                  0               0   \n",
       "4            1              8                  9               9   \n",
       "\n",
       "   Senior_Win_WC  Senior_Success_WC  Senior_Part_WC  target_rank  \\\n",
       "0              0                  0               4          1.0   \n",
       "1              0                  1               1          2.0   \n",
       "2              0                  0               0          9.0   \n",
       "3              0                  0               1         12.0   \n",
       "4              0                  0               7          2.0   \n",
       "\n",
       "   target_group  target_medalist  \n",
       "0             1                1  \n",
       "1             1                1  \n",
       "2             2                0  \n",
       "3             3                0  \n",
       "4             1                1  "
      ]
     },
     "execution_count": 95,
     "metadata": {},
     "output_type": "execute_result"
    }
   ],
   "source": [
    "df_women_final.head()"
   ]
  }
 ],
 "metadata": {
  "kernelspec": {
   "display_name": "Python 3.7 (tensorflow)8",
   "language": "python",
   "name": "tensorflow"
  },
  "language_info": {
   "codemirror_mode": {
    "name": "ipython",
    "version": 3
   },
   "file_extension": ".py",
   "mimetype": "text/x-python",
   "name": "python",
   "nbconvert_exporter": "python",
   "pygments_lexer": "ipython3",
   "version": "3.8.5"
  }
 },
 "nbformat": 4,
 "nbformat_minor": 5
}
