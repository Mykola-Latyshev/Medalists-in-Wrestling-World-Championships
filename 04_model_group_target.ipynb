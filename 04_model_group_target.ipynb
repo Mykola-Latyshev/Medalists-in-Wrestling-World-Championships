{
 "cells": [
  {
   "cell_type": "code",
   "execution_count": 1,
   "id": "played-university",
   "metadata": {},
   "outputs": [],
   "source": [
    "import pandas as pd\n",
    "import numpy as np\n",
    "import matplotlib\n",
    "import matplotlib.pyplot as plt\n",
    "import seaborn as sns"
   ]
  },
  {
   "cell_type": "code",
   "execution_count": 2,
   "id": "prescription-resident",
   "metadata": {},
   "outputs": [],
   "source": [
    "# load data\n",
    "#df_women_final = pd.read_csv('df_women_final.csv')\n",
    "df_men_final = pd.read_csv('df_men_final.csv')"
   ]
  },
  {
   "cell_type": "code",
   "execution_count": 3,
   "id": "german-lease",
   "metadata": {},
   "outputs": [
    {
     "data": {
      "text/html": [
       "<div>\n",
       "<style scoped>\n",
       "    .dataframe tbody tr th:only-of-type {\n",
       "        vertical-align: middle;\n",
       "    }\n",
       "\n",
       "    .dataframe tbody tr th {\n",
       "        vertical-align: top;\n",
       "    }\n",
       "\n",
       "    .dataframe thead th {\n",
       "        text-align: right;\n",
       "    }\n",
       "</style>\n",
       "<table border=\"1\" class=\"dataframe\">\n",
       "  <thead>\n",
       "    <tr style=\"text-align: right;\">\n",
       "      <th></th>\n",
       "      <th>Name</th>\n",
       "      <th>Age_final</th>\n",
       "      <th>Month_BirthDay</th>\n",
       "      <th>Quarter_REA</th>\n",
       "      <th>Half_REA</th>\n",
       "      <th>Cadet_Win</th>\n",
       "      <th>Cadet_Success</th>\n",
       "      <th>Cadet_Part</th>\n",
       "      <th>Junior_Win</th>\n",
       "      <th>Junior_Success</th>\n",
       "      <th>Junior_Part</th>\n",
       "      <th>Senior_Win_CC</th>\n",
       "      <th>Senior_Success_CC</th>\n",
       "      <th>Senior_Part_CC</th>\n",
       "      <th>Senior_Win_WC</th>\n",
       "      <th>Senior_Success_WC</th>\n",
       "      <th>Senior_Part_WC</th>\n",
       "      <th>target_rank</th>\n",
       "      <th>target_group</th>\n",
       "      <th>target_medalist</th>\n",
       "    </tr>\n",
       "  </thead>\n",
       "  <tbody>\n",
       "    <tr>\n",
       "      <th>5</th>\n",
       "      <td>Akgul, Taha</td>\n",
       "      <td>27</td>\n",
       "      <td>11</td>\n",
       "      <td>4</td>\n",
       "      <td>1</td>\n",
       "      <td>0</td>\n",
       "      <td>0</td>\n",
       "      <td>0</td>\n",
       "      <td>0</td>\n",
       "      <td>1</td>\n",
       "      <td>2</td>\n",
       "      <td>4</td>\n",
       "      <td>4</td>\n",
       "      <td>5</td>\n",
       "      <td>2</td>\n",
       "      <td>3</td>\n",
       "      <td>3</td>\n",
       "      <td>2.0</td>\n",
       "      <td>0.0</td>\n",
       "      <td>0</td>\n",
       "    </tr>\n",
       "    <tr>\n",
       "      <th>6</th>\n",
       "      <td>Alborov, Aslanbek</td>\n",
       "      <td>26</td>\n",
       "      <td>4</td>\n",
       "      <td>2</td>\n",
       "      <td>0</td>\n",
       "      <td>0</td>\n",
       "      <td>1</td>\n",
       "      <td>1</td>\n",
       "      <td>1</td>\n",
       "      <td>4</td>\n",
       "      <td>5</td>\n",
       "      <td>0</td>\n",
       "      <td>0</td>\n",
       "      <td>0</td>\n",
       "      <td>0</td>\n",
       "      <td>0</td>\n",
       "      <td>0</td>\n",
       "      <td>3.0</td>\n",
       "      <td>0.0</td>\n",
       "      <td>0</td>\n",
       "    </tr>\n",
       "    <tr>\n",
       "      <th>8</th>\n",
       "      <td>Aliev, Haji</td>\n",
       "      <td>26</td>\n",
       "      <td>4</td>\n",
       "      <td>2</td>\n",
       "      <td>0</td>\n",
       "      <td>0</td>\n",
       "      <td>1</td>\n",
       "      <td>1</td>\n",
       "      <td>0</td>\n",
       "      <td>1</td>\n",
       "      <td>1</td>\n",
       "      <td>1</td>\n",
       "      <td>3</td>\n",
       "      <td>5</td>\n",
       "      <td>2</td>\n",
       "      <td>2</td>\n",
       "      <td>3</td>\n",
       "      <td>1.0</td>\n",
       "      <td>0.0</td>\n",
       "      <td>0</td>\n",
       "    </tr>\n",
       "    <tr>\n",
       "      <th>23</th>\n",
       "      <td>Berianidze, Levan</td>\n",
       "      <td>27</td>\n",
       "      <td>10</td>\n",
       "      <td>4</td>\n",
       "      <td>1</td>\n",
       "      <td>0</td>\n",
       "      <td>0</td>\n",
       "      <td>0</td>\n",
       "      <td>0</td>\n",
       "      <td>2</td>\n",
       "      <td>2</td>\n",
       "      <td>0</td>\n",
       "      <td>0</td>\n",
       "      <td>1</td>\n",
       "      <td>1</td>\n",
       "      <td>2</td>\n",
       "      <td>3</td>\n",
       "      <td>3.0</td>\n",
       "      <td>0.0</td>\n",
       "      <td>0</td>\n",
       "    </tr>\n",
       "    <tr>\n",
       "      <th>28</th>\n",
       "      <td>Bonne Rodriguez, Yowlys</td>\n",
       "      <td>34</td>\n",
       "      <td>11</td>\n",
       "      <td>4</td>\n",
       "      <td>1</td>\n",
       "      <td>0</td>\n",
       "      <td>0</td>\n",
       "      <td>0</td>\n",
       "      <td>2</td>\n",
       "      <td>2</td>\n",
       "      <td>3</td>\n",
       "      <td>3</td>\n",
       "      <td>5</td>\n",
       "      <td>5</td>\n",
       "      <td>0</td>\n",
       "      <td>1</td>\n",
       "      <td>2</td>\n",
       "      <td>3.0</td>\n",
       "      <td>0.0</td>\n",
       "      <td>0</td>\n",
       "    </tr>\n",
       "  </tbody>\n",
       "</table>\n",
       "</div>"
      ],
      "text/plain": [
       "                       Name  Age_final  Month_BirthDay  Quarter_REA  Half_REA  \\\n",
       "5               Akgul, Taha         27              11            4         1   \n",
       "6         Alborov, Aslanbek         26               4            2         0   \n",
       "8               Aliev, Haji         26               4            2         0   \n",
       "23        Berianidze, Levan         27              10            4         1   \n",
       "28  Bonne Rodriguez, Yowlys         34              11            4         1   \n",
       "\n",
       "    Cadet_Win  Cadet_Success  Cadet_Part  Junior_Win  Junior_Success  \\\n",
       "5           0              0           0           0               1   \n",
       "6           0              1           1           1               4   \n",
       "8           0              1           1           0               1   \n",
       "23          0              0           0           0               2   \n",
       "28          0              0           0           2               2   \n",
       "\n",
       "    Junior_Part  Senior_Win_CC  Senior_Success_CC  Senior_Part_CC  \\\n",
       "5             2              4                  4               5   \n",
       "6             5              0                  0               0   \n",
       "8             1              1                  3               5   \n",
       "23            2              0                  0               1   \n",
       "28            3              3                  5               5   \n",
       "\n",
       "    Senior_Win_WC  Senior_Success_WC  Senior_Part_WC  target_rank  \\\n",
       "5               2                  3               3          2.0   \n",
       "6               0                  0               0          3.0   \n",
       "8               2                  2               3          1.0   \n",
       "23              1                  2               3          3.0   \n",
       "28              0                  1               2          3.0   \n",
       "\n",
       "    target_group  target_medalist  \n",
       "5            0.0                0  \n",
       "6            0.0                0  \n",
       "8            0.0                0  \n",
       "23           0.0                0  \n",
       "28           0.0                0  "
      ]
     },
     "execution_count": 3,
     "metadata": {},
     "output_type": "execute_result"
    }
   ],
   "source": [
    "df_men_final.loc[(df_men_final.target_group < 1)].head()"
   ]
  },
  {
   "cell_type": "code",
   "execution_count": 4,
   "id": "architectural-diagnosis",
   "metadata": {},
   "outputs": [],
   "source": [
    "from sklearn import tree\n",
    "from sklearn.tree import DecisionTreeClassifier\n",
    "from sklearn import datasets\n",
    "from sklearn.model_selection import train_test_split\n",
    "from sklearn.model_selection import GridSearchCV\n",
    "from sklearn.model_selection import RandomizedSearchCV\n",
    "from sklearn import metrics\n",
    "from sklearn.metrics import confusion_matrix\n",
    "from sklearn.metrics import precision_score, recall_score\n",
    "from sklearn.metrics import accuracy_score\n",
    "from sklearn.model_selection import cross_val_score\n",
    "from sklearn.ensemble import RandomForestClassifier\n",
    "\n",
    "from sklearn.metrics import classification_report\n",
    "from xgboost import XGBClassifier"
   ]
  },
  {
   "cell_type": "code",
   "execution_count": 5,
   "id": "seeing-background",
   "metadata": {},
   "outputs": [],
   "source": [
    "# create features (X) and target (y)\n",
    "X = df_men_final.drop(columns = ['Name', 'target_rank', 'target_group', 'target_medalist']).values\n",
    "y = df_men_final['target_group'].values"
   ]
  },
  {
   "cell_type": "code",
   "execution_count": 6,
   "id": "irish-leone",
   "metadata": {},
   "outputs": [],
   "source": [
    "# split train and test set\n",
    "X_train, X_test, y_train, y_test = train_test_split(X, y, test_size=0.35, random_state=42)"
   ]
  },
  {
   "cell_type": "code",
   "execution_count": 7,
   "id": "short-problem",
   "metadata": {},
   "outputs": [
    {
     "name": "stdout",
     "output_type": "stream",
     "text": [
      "Training set:  (661, 16) (661,)\n",
      "Testing set:  (357, 16) (357,)\n"
     ]
    }
   ],
   "source": [
    "print('Training set: ', X_train.shape, y_train.shape)\n",
    "print('Testing set: ', X_test.shape, y_test.shape)"
   ]
  },
  {
   "cell_type": "code",
   "execution_count": null,
   "id": "heavy-client",
   "metadata": {},
   "outputs": [],
   "source": []
  },
  {
   "cell_type": "code",
   "execution_count": 10,
   "id": "adolescent-latvia",
   "metadata": {},
   "outputs": [],
   "source": [
    "### GaussianNB\n",
    "from sklearn.naive_bayes import GaussianNB"
   ]
  },
  {
   "cell_type": "code",
   "execution_count": 11,
   "id": "included-occurrence",
   "metadata": {},
   "outputs": [],
   "source": [
    "model_gnb = GaussianNB()"
   ]
  },
  {
   "cell_type": "code",
   "execution_count": 12,
   "id": "heated-premium",
   "metadata": {},
   "outputs": [
    {
     "name": "stdout",
     "output_type": "stream",
     "text": [
      "Wall time: 168 ms\n"
     ]
    }
   ],
   "source": [
    "%%time\n",
    "# model\n",
    "model_gnb = GaussianNB()\n",
    "\n",
    "params = {'var_smoothing': [1e-2, 1e-3, 1e-4, 1e-5, 1e-6, 1e-7, 1e-8, 1e-9, 1e-10, 1e-11, 1e-12, 1e-13, 1e-14, 1e-15]}\n",
    "cv_gnb = GridSearchCV(cv=5, estimator=model_gnb, param_grid = params, scoring='accuracy')\n",
    "\n",
    "cv_gnb.fit(X_train, y_train)\n",
    "best_gnb = cv_gnb.best_estimator_   "
   ]
  },
  {
   "cell_type": "code",
   "execution_count": 13,
   "id": "refined-vietnamese",
   "metadata": {},
   "outputs": [
    {
     "data": {
      "text/plain": [
       "GaussianNB(var_smoothing=0.0001)"
      ]
     },
     "execution_count": 13,
     "metadata": {},
     "output_type": "execute_result"
    }
   ],
   "source": [
    "best_gnb"
   ]
  },
  {
   "cell_type": "code",
   "execution_count": 14,
   "id": "binary-difference",
   "metadata": {},
   "outputs": [
    {
     "name": "stdout",
     "output_type": "stream",
     "text": [
      "Train set Accuracy:  0.6717095310136157\n",
      "Test set Accuracy:  0.6498599439775911\n",
      "Wall time: 8.04 ms\n"
     ]
    }
   ],
   "source": [
    "%%time\n",
    "gnb_train = metrics.accuracy_score(y_train, best_gnb.predict(X_train))\n",
    "gnb_test = metrics.accuracy_score(y_test, best_gnb.predict(X_test))\n",
    "print('Train set Accuracy: ', gnb_train)\n",
    "print('Test set Accuracy: ', gnb_test)"
   ]
  },
  {
   "cell_type": "code",
   "execution_count": null,
   "id": "iraqi-shower",
   "metadata": {},
   "outputs": [],
   "source": []
  },
  {
   "cell_type": "code",
   "execution_count": 15,
   "id": "steady-destiny",
   "metadata": {},
   "outputs": [],
   "source": [
    "# SVM for Multiclass Classification\n",
    "from sklearn.svm import SVC"
   ]
  },
  {
   "cell_type": "code",
   "execution_count": 16,
   "id": "verified-bench",
   "metadata": {},
   "outputs": [
    {
     "name": "stdout",
     "output_type": "stream",
     "text": [
      "Wall time: 1min 34s\n"
     ]
    },
    {
     "data": {
      "text/plain": [
       "GridSearchCV(cv=5, estimator=SVC(),\n",
       "             param_grid=[{'C': [1, 10, 100, 1000], 'gamma': [0.001, 0.0001],\n",
       "                          'kernel': ['rbf']},\n",
       "                         {'C': [1, 10, 100, 1000], 'kernel': ['linear']}])"
      ]
     },
     "execution_count": 16,
     "metadata": {},
     "output_type": "execute_result"
    }
   ],
   "source": [
    "%%time\n",
    "params_grid = [{'kernel': ['rbf'], 'gamma': [1e-3, 1e-4],\n",
    "                     'C': [1, 10, 100, 1000]},\n",
    "                    {'kernel': ['linear'], 'C': [1, 10, 100, 1000]}]\n",
    "svm_model = GridSearchCV(SVC(), params_grid, cv=5)\n",
    "\n",
    "svm_model.fit(X_train, y_train)"
   ]
  },
  {
   "cell_type": "code",
   "execution_count": 17,
   "id": "surprising-chemistry",
   "metadata": {},
   "outputs": [
    {
     "data": {
      "text/plain": [
       "SVC(C=1000, gamma=0.001)"
      ]
     },
     "execution_count": 17,
     "metadata": {},
     "output_type": "execute_result"
    }
   ],
   "source": [
    "best_svm = svm_model.best_estimator_\n",
    "best_svm"
   ]
  },
  {
   "cell_type": "code",
   "execution_count": 18,
   "id": "afraid-civilization",
   "metadata": {},
   "outputs": [
    {
     "name": "stdout",
     "output_type": "stream",
     "text": [
      "Train set Accuracy:  0.7382753403933434\n",
      "Test set Accuracy:  0.6526610644257703\n",
      "Wall time: 87.9 ms\n"
     ]
    }
   ],
   "source": [
    "%%time\n",
    "svm_train = metrics.accuracy_score(y_train, best_svm.predict(X_train))\n",
    "svm_test = metrics.accuracy_score(y_test, best_svm.predict(X_test))\n",
    "print('Train set Accuracy: ', svm_train)\n",
    "print('Test set Accuracy: ', svm_test)"
   ]
  },
  {
   "cell_type": "code",
   "execution_count": 19,
   "id": "thrown-equality",
   "metadata": {},
   "outputs": [
    {
     "name": "stdout",
     "output_type": "stream",
     "text": [
      "Predicted  0.0  1.0  2.0\n",
      "Actual                  \n",
      "0.0         13    3   38\n",
      "1.0          5    1   65\n",
      "2.0         10    3  219\n"
     ]
    }
   ],
   "source": [
    "data = {'y_Actual':    y_test,\n",
    "        'y_Predicted': best_svm.predict(X_test)}\n",
    "df = pd.DataFrame(data, columns=['y_Actual','y_Predicted'])\n",
    "\n",
    "confusion_matrix = pd.crosstab(df['y_Actual'], df['y_Predicted'], rownames=['Actual'], colnames=['Predicted'])\n",
    "print (confusion_matrix)"
   ]
  },
  {
   "cell_type": "code",
   "execution_count": null,
   "id": "agricultural-springer",
   "metadata": {},
   "outputs": [],
   "source": []
  },
  {
   "cell_type": "code",
   "execution_count": 20,
   "id": "dangerous-lesbian",
   "metadata": {},
   "outputs": [],
   "source": [
    "### RANDOM FOREST"
   ]
  },
  {
   "cell_type": "code",
   "execution_count": 21,
   "id": "brutal-processing",
   "metadata": {},
   "outputs": [
    {
     "name": "stdout",
     "output_type": "stream",
     "text": [
      "Wall time: 11.7 s\n"
     ]
    }
   ],
   "source": [
    "%%time\n",
    "\n",
    "# model\n",
    "rfc=RandomForestClassifier(random_state=42)\n",
    "\n",
    "# parameters for GridSearch\n",
    "    \n",
    "param_grid = { \n",
    "        'criterion': ['entropy'],\n",
    "        'n_estimators': [50,60,70],\n",
    "        'max_depth': [3,5,7],\n",
    "        'min_samples_leaf': range(3,5)\n",
    "}\n",
    "    \n",
    "cv_rfc = GridSearchCV(cv=5, estimator=rfc, param_grid=param_grid, scoring='accuracy')\n",
    "cv_rfc.fit(X_train, y_train)\n",
    "best_rfc = cv_rfc.best_estimator_    "
   ]
  },
  {
   "cell_type": "code",
   "execution_count": 22,
   "id": "tracked-depth",
   "metadata": {},
   "outputs": [
    {
     "data": {
      "text/plain": [
       "RandomForestClassifier(criterion='entropy', max_depth=5, min_samples_leaf=4,\n",
       "                       n_estimators=60, random_state=42)"
      ]
     },
     "execution_count": 22,
     "metadata": {},
     "output_type": "execute_result"
    }
   ],
   "source": [
    "best_rfc"
   ]
  },
  {
   "cell_type": "code",
   "execution_count": 23,
   "id": "meaning-smooth",
   "metadata": {},
   "outputs": [
    {
     "name": "stdout",
     "output_type": "stream",
     "text": [
      "Train set Accuracy:  0.7307110438729199\n",
      "Test set Accuracy:  0.6638655462184874\n"
     ]
    }
   ],
   "source": [
    "rfc_train  = metrics.accuracy_score(y_train, best_rfc.predict(X_train))\n",
    "rfc_test = metrics.accuracy_score(y_test, best_rfc.predict(X_test))\n",
    "print('Train set Accuracy: ', rfc_train)\n",
    "print('Test set Accuracy: ', rfc_test)"
   ]
  },
  {
   "cell_type": "code",
   "execution_count": null,
   "id": "introductory-nightmare",
   "metadata": {},
   "outputs": [],
   "source": []
  },
  {
   "cell_type": "code",
   "execution_count": 24,
   "id": "bottom-north",
   "metadata": {},
   "outputs": [],
   "source": [
    "### XGBOOST"
   ]
  },
  {
   "cell_type": "code",
   "execution_count": 25,
   "id": "baking-variance",
   "metadata": {
    "scrolled": true
   },
   "outputs": [
    {
     "name": "stdout",
     "output_type": "stream",
     "text": [
      "Wall time: 25.4 s\n"
     ]
    }
   ],
   "source": [
    "%%time\n",
    "\n",
    "xgb_model = XGBClassifier(objective = 'multi:softprob', eval_metric='mlogloss', num_class = 3, use_label_encoder=False)\n",
    "    # parameters for GridSearch\n",
    "param_grid = { \n",
    "        'n_estimators': [50, 60],\n",
    "        'max_depth': [3, 4],\n",
    "        'learning_rate' :[0.1, 0.2, 0.3],\n",
    "        'alpha' : [1, 10, 20, 50]\n",
    "    }\n",
    "    \n",
    "cv_xgb = GridSearchCV(cv=5, estimator=xgb_model, param_grid=param_grid)\n",
    "cv_xgb.fit(X_train, y_train)\n",
    "best_xgb = cv_xgb.best_estimator_"
   ]
  },
  {
   "cell_type": "code",
   "execution_count": 26,
   "id": "aquatic-fireplace",
   "metadata": {},
   "outputs": [
    {
     "data": {
      "text/plain": [
       "XGBClassifier(alpha=20, base_score=0.5, booster='gbtree', colsample_bylevel=1,\n",
       "              colsample_bynode=1, colsample_bytree=1, eval_metric='mlogloss',\n",
       "              gamma=0, gpu_id=-1, importance_type='gain',\n",
       "              interaction_constraints='', learning_rate=0.1, max_delta_step=0,\n",
       "              max_depth=4, min_child_weight=1, missing=nan,\n",
       "              monotone_constraints='()', n_estimators=50, n_jobs=8, num_class=3,\n",
       "              num_parallel_tree=1, objective='multi:softprob', random_state=0,\n",
       "              reg_alpha=20, reg_lambda=1, scale_pos_weight=None, subsample=1,\n",
       "              tree_method='exact', use_label_encoder=False,\n",
       "              validate_parameters=1, ...)"
      ]
     },
     "execution_count": 26,
     "metadata": {},
     "output_type": "execute_result"
    }
   ],
   "source": [
    "best_xgb"
   ]
  },
  {
   "cell_type": "code",
   "execution_count": 27,
   "id": "judicial-junior",
   "metadata": {},
   "outputs": [
    {
     "name": "stdout",
     "output_type": "stream",
     "text": [
      "Train set Accuracy:  0.7110438729198184\n",
      "Test set Accuracy:  0.6694677871148459\n",
      "Wall time: 7.99 ms\n"
     ]
    }
   ],
   "source": [
    "%%time\n",
    "xgb_train  = metrics.accuracy_score(y_train, best_xgb.predict(X_train))\n",
    "xgb_test = metrics.accuracy_score(y_test, best_xgb.predict(X_test))\n",
    "\n",
    "print('Train set Accuracy: ', xgb_train)\n",
    "print('Test set Accuracy: ', xgb_test)"
   ]
  },
  {
   "cell_type": "code",
   "execution_count": 28,
   "id": "supreme-classics",
   "metadata": {},
   "outputs": [
    {
     "name": "stdout",
     "output_type": "stream",
     "text": [
      "Predicted   0  1    2\n",
      "Actual               \n",
      "0.0        16  1   37\n",
      "1.0         7  0   64\n",
      "2.0         7  2  223\n"
     ]
    }
   ],
   "source": [
    "data = {'y_Actual':    y_test,\n",
    "        'y_Predicted': best_xgb.predict(X_test)}\n",
    "df = pd.DataFrame(data, columns=['y_Actual','y_Predicted'])\n",
    "\n",
    "confusion_matrix = pd.crosstab(df['y_Actual'], df['y_Predicted'], rownames=['Actual'], colnames=['Predicted'])\n",
    "print (confusion_matrix)"
   ]
  },
  {
   "cell_type": "code",
   "execution_count": null,
   "id": "opposed-stuart",
   "metadata": {},
   "outputs": [],
   "source": []
  },
  {
   "cell_type": "code",
   "execution_count": 29,
   "id": "arctic-thesis",
   "metadata": {},
   "outputs": [],
   "source": [
    "### LightGBM\n",
    "from lightgbm import LGBMClassifier"
   ]
  },
  {
   "cell_type": "code",
   "execution_count": 30,
   "id": "advised-pledge",
   "metadata": {},
   "outputs": [
    {
     "name": "stdout",
     "output_type": "stream",
     "text": [
      "Wall time: 36.5 s\n"
     ]
    }
   ],
   "source": [
    "%%time\n",
    "\n",
    "lgbm_model = LGBMClassifier(objective = 'multiclass', num_class = 3, boosting_type ='gbdt', random_state=42)\n",
    "\n",
    "# parameters for GridSearch\n",
    "param_grid = { \n",
    "        'n_estimators': [80, 85, 90],\n",
    "        'max_depth': [2,3,4],\n",
    "        'learning_rate' :[0.1, 0.2, 0.3],\n",
    "        'reg_alpha' : [0.2, 0.3, 0.4],\n",
    "         }\n",
    "    \n",
    "cv_lgbm = GridSearchCV(cv=5, estimator=lgbm_model, param_grid=param_grid)\n",
    "cv_lgbm.fit(X, y)\n",
    "best_lgbm = cv_lgbm.best_estimator_"
   ]
  },
  {
   "cell_type": "code",
   "execution_count": 31,
   "id": "polar-touch",
   "metadata": {},
   "outputs": [
    {
     "data": {
      "text/plain": [
       "LGBMClassifier(max_depth=2, n_estimators=80, num_class=3,\n",
       "               objective='multiclass', random_state=42, reg_alpha=0.3)"
      ]
     },
     "execution_count": 31,
     "metadata": {},
     "output_type": "execute_result"
    }
   ],
   "source": [
    "best_lgbm"
   ]
  },
  {
   "cell_type": "code",
   "execution_count": 32,
   "id": "younger-swing",
   "metadata": {},
   "outputs": [
    {
     "name": "stdout",
     "output_type": "stream",
     "text": [
      "Train set Accuracy:  0.7110438729198184\n",
      "Test set Accuracy:  0.711484593837535\n",
      "Wall time: 7.99 ms\n"
     ]
    }
   ],
   "source": [
    "%%time\n",
    "lgbm_train  = metrics.accuracy_score(y_train, best_xgb.predict(X_train))\n",
    "lgbm_test = metrics.accuracy_score(y_test, best_lgbm.predict(X_test))\n",
    "\n",
    "print('Train set Accuracy: ', lgbm_train)\n",
    "print('Test set Accuracy: ', lgbm_test)"
   ]
  },
  {
   "cell_type": "code",
   "execution_count": null,
   "id": "formed-forum",
   "metadata": {},
   "outputs": [],
   "source": []
  },
  {
   "cell_type": "code",
   "execution_count": null,
   "id": "optional-dancing",
   "metadata": {},
   "outputs": [],
   "source": []
  },
  {
   "cell_type": "code",
   "execution_count": null,
   "id": "suspected-psychology",
   "metadata": {},
   "outputs": [],
   "source": [
    "# create table with models results"
   ]
  },
  {
   "cell_type": "code",
   "execution_count": 33,
   "id": "received-charleston",
   "metadata": {},
   "outputs": [],
   "source": [
    "data_accuracy = {'ML_algorithms':['GaussianNB', 'SVM', 'Random Forest', 'XGBoost', 'LightGBM'],\n",
    "        'Train set Accuracy':  [gnb_train, svm_train, rfc_train, xgb_train, lgbm_train],\n",
    "        'Test set Accuracy': [gnb_test, svm_test, rfc_test, xgb_test, lgbm_test],\n",
    "        }\n",
    "\n",
    "df_result_accuracy = pd.DataFrame (data_accuracy, \n",
    "                          columns = ['ML_algorithms','Train set Accuracy', 'Test set Accuracy'])"
   ]
  },
  {
   "cell_type": "code",
   "execution_count": 35,
   "id": "standing-mining",
   "metadata": {},
   "outputs": [
    {
     "data": {
      "text/html": [
       "<div>\n",
       "<style scoped>\n",
       "    .dataframe tbody tr th:only-of-type {\n",
       "        vertical-align: middle;\n",
       "    }\n",
       "\n",
       "    .dataframe tbody tr th {\n",
       "        vertical-align: top;\n",
       "    }\n",
       "\n",
       "    .dataframe thead th {\n",
       "        text-align: right;\n",
       "    }\n",
       "</style>\n",
       "<table border=\"1\" class=\"dataframe\">\n",
       "  <thead>\n",
       "    <tr style=\"text-align: right;\">\n",
       "      <th></th>\n",
       "      <th>ML_algorithms</th>\n",
       "      <th>Train set Accuracy</th>\n",
       "      <th>Test set Accuracy</th>\n",
       "    </tr>\n",
       "  </thead>\n",
       "  <tbody>\n",
       "    <tr>\n",
       "      <th>0</th>\n",
       "      <td>GaussianNB</td>\n",
       "      <td>0.671710</td>\n",
       "      <td>0.649860</td>\n",
       "    </tr>\n",
       "    <tr>\n",
       "      <th>1</th>\n",
       "      <td>SVM</td>\n",
       "      <td>0.738275</td>\n",
       "      <td>0.652661</td>\n",
       "    </tr>\n",
       "    <tr>\n",
       "      <th>2</th>\n",
       "      <td>Random Forest</td>\n",
       "      <td>0.730711</td>\n",
       "      <td>0.663866</td>\n",
       "    </tr>\n",
       "    <tr>\n",
       "      <th>3</th>\n",
       "      <td>XGBoost</td>\n",
       "      <td>0.711044</td>\n",
       "      <td>0.669468</td>\n",
       "    </tr>\n",
       "    <tr>\n",
       "      <th>4</th>\n",
       "      <td>LightGBM</td>\n",
       "      <td>0.711044</td>\n",
       "      <td>0.711485</td>\n",
       "    </tr>\n",
       "  </tbody>\n",
       "</table>\n",
       "</div>"
      ],
      "text/plain": [
       "   ML_algorithms  Train set Accuracy  Test set Accuracy\n",
       "0     GaussianNB            0.671710           0.649860\n",
       "1            SVM            0.738275           0.652661\n",
       "2  Random Forest            0.730711           0.663866\n",
       "3        XGBoost            0.711044           0.669468\n",
       "4       LightGBM            0.711044           0.711485"
      ]
     },
     "execution_count": 35,
     "metadata": {},
     "output_type": "execute_result"
    }
   ],
   "source": [
    "df_result_accuracy"
   ]
  },
  {
   "cell_type": "code",
   "execution_count": null,
   "id": "residential-bruce",
   "metadata": {},
   "outputs": [],
   "source": []
  },
  {
   "cell_type": "code",
   "execution_count": 36,
   "id": "hydraulic-clinton",
   "metadata": {},
   "outputs": [],
   "source": [
    "# The best model is LightGBM\n",
    "\n",
    "# the most important predictions of medalist (class - 0)\n",
    "# Because of this I compare confusion matrixs and calculate predictions for medalist"
   ]
  },
  {
   "cell_type": "code",
   "execution_count": 37,
   "id": "excited-sword",
   "metadata": {},
   "outputs": [],
   "source": [
    "# Compare confusion matrix for next models\n",
    "# The confusion matrix for XGBOOST and LightGBM"
   ]
  },
  {
   "cell_type": "code",
   "execution_count": 38,
   "id": "realistic-television",
   "metadata": {},
   "outputs": [
    {
     "name": "stdout",
     "output_type": "stream",
     "text": [
      "Predicted   0  1    2\n",
      "Actual               \n",
      "0.0        16  1   37\n",
      "1.0         7  0   64\n",
      "2.0         7  2  223\n"
     ]
    }
   ],
   "source": [
    "# The confusion matrix for XGBOOST\n",
    "data = {'y_Actual':    y_test,\n",
    "        'y_Predicted': best_xgb.predict(X_test)}\n",
    "df = pd.DataFrame(data, columns=['y_Actual','y_Predicted'])\n",
    "\n",
    "confusion_matrix_xgb = pd.crosstab(df['y_Actual'], df['y_Predicted'], rownames=['Actual'], colnames=['Predicted'])\n",
    "print (confusion_matrix_xgb)"
   ]
  },
  {
   "cell_type": "code",
   "execution_count": 39,
   "id": "novel-blogger",
   "metadata": {},
   "outputs": [
    {
     "name": "stdout",
     "output_type": "stream",
     "text": [
      "Precision of medalists (XGBOOST):  0.5333333333333333\n"
     ]
    }
   ],
   "source": [
    "print('Precision of medalists (XGBOOST): ', (confusion_matrix_xgb.loc[0,0])/(sum(confusion_matrix_xgb.loc[:,0])))"
   ]
  },
  {
   "cell_type": "code",
   "execution_count": 40,
   "id": "overall-general",
   "metadata": {},
   "outputs": [
    {
     "name": "stdout",
     "output_type": "stream",
     "text": [
      "Predicted  0.0  1.0  2.0\n",
      "Actual                  \n",
      "0.0         19    1   34\n",
      "1.0          4    9   58\n",
      "2.0          5    1  226\n"
     ]
    }
   ],
   "source": [
    "# The confusion matrix for LightGBM\n",
    "data = {'y_Actual':    y_test,\n",
    "        'y_Predicted': best_lgbm.predict(X_test)}\n",
    "df = pd.DataFrame(data, columns=['y_Actual','y_Predicted'])\n",
    "\n",
    "confusion_matrix_lgbm = pd.crosstab(df['y_Actual'], df['y_Predicted'], rownames=['Actual'], colnames=['Predicted'])\n",
    "print (confusion_matrix_lgbm)"
   ]
  },
  {
   "cell_type": "code",
   "execution_count": 41,
   "id": "informative-tennessee",
   "metadata": {},
   "outputs": [
    {
     "name": "stdout",
     "output_type": "stream",
     "text": [
      "Precision of medalists (LightGBM):  0.6785714285714286\n"
     ]
    }
   ],
   "source": [
    "print('Precision of medalists (LightGBM): ', (confusion_matrix_lgbm.loc[0,0])/(sum(confusion_matrix_lgbm.loc[:,0])))"
   ]
  },
  {
   "cell_type": "code",
   "execution_count": null,
   "id": "czech-literature",
   "metadata": {},
   "outputs": [],
   "source": []
  },
  {
   "cell_type": "code",
   "execution_count": 42,
   "id": "fifty-siemens",
   "metadata": {},
   "outputs": [],
   "source": [
    "#feature_important LightGBM model"
   ]
  },
  {
   "cell_type": "code",
   "execution_count": 43,
   "id": "angry-andrews",
   "metadata": {},
   "outputs": [
    {
     "data": {
      "image/png": "[encoded data removed]",
      "text/plain": [
       "<Figure size 792x360 with 1 Axes>"
      ]
     },
     "metadata": {
      "needs_background": "light"
     },
     "output_type": "display_data"
    }
   ],
   "source": [
    "feature_importances = (best_lgbm.feature_importances_ / sum(best_lgbm.feature_importances_)) * 100\n",
    "results = pd.DataFrame({'Features': ['Age_final', 'Month_BirthDay', 'Quarter_REA', 'Half_REA',\n",
    "                               'Cadet_Win', 'Cadet_Success', 'Cadet_Part', 'Junior_Win',\n",
    "                                'Junior_Success', 'Junior_Part', 'Senior_Win_CC',\n",
    "                                'Senior_Success_CC', 'Senior_Part_CC', 'Senior_Win_WC',\n",
    "                                   'Senior_Success_WC', 'Senior_Part_WC'],\n",
    "                        'Importances': feature_importances}).sort_values(by = \"Importances\", ascending=True)\n",
    "plt.figure(figsize = (11,5))\n",
    "\n",
    "font1 = {'family':'serif','color':'black','size':14}\n",
    "ax = plt.barh(results['Features'], results['Importances'], color ='teal')\n",
    "plt.xlabel('Importance percentages', fontdict = font1)\n",
    "\n",
    "plt.savefig('11_importance_percentage_m.png')\n",
    "\n",
    "plt.show()"
   ]
  },
  {
   "cell_type": "code",
   "execution_count": null,
   "id": "changed-disney",
   "metadata": {},
   "outputs": [],
   "source": []
  },
  {
   "cell_type": "code",
   "execution_count": null,
   "id": "broken-capitol",
   "metadata": {},
   "outputs": [],
   "source": []
  }
 ],
 "metadata": {
  "kernelspec": {
   "display_name": "Python 3.7 (tensorflow)8",
   "language": "python",
   "name": "tensorflow"
  },
  "language_info": {
   "codemirror_mode": {
    "name": "ipython",
    "version": 3
   },
   "file_extension": ".py",
   "mimetype": "text/x-python",
   "name": "python",
   "nbconvert_exporter": "python",
   "pygments_lexer": "ipython3",
   "version": "3.8.5"
  }
 },
 "nbformat": 4,
 "nbformat_minor": 5
}
